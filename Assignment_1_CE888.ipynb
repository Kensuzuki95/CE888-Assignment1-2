{
  "nbformat": 4,
  "nbformat_minor": 0,
  "metadata": {
    "colab": {
      "name": "Assignment 1 CE888.ipynb",
      "provenance": [],
      "collapsed_sections": [],
      "toc_visible": true
    },
    "kernelspec": {
      "name": "python3",
      "display_name": "Python 3"
    }
  },
  "cells": [
    {
      "cell_type": "markdown",
      "metadata": {
        "id": "1vIaMRPQdk42"
      },
      "source": [
        "##Load the dataset and check the content of the data\n",
        "\n"
      ]
    },
    {
      "cell_type": "code",
      "metadata": {
        "id": "lfHQuctlZM9G"
      },
      "source": [
        "#Load necesarry packages \n",
        "import pandas as pd\n",
        "import numpy as np\n",
        "import matplotlib.pyplot as plt\n",
        "import seaborn as sns"
      ],
      "execution_count": 1,
      "outputs": []
    },
    {
      "cell_type": "code",
      "metadata": {
        "id": "iIBNabBhkOY_"
      },
      "source": [
        "#Create function view content in .txt file\n",
        "def text_file_reader(data):\n",
        "  with open(data) as f:\n",
        "    contents = f.read()\n",
        "    print(contents)"
      ],
      "execution_count": 2,
      "outputs": []
    },
    {
      "cell_type": "code",
      "metadata": {
        "id": "XBg0v-eiqUSn"
      },
      "source": [
        "#df_test_text = open(\"/content/drive/MyDrive/CE888_Data Science and Decision Making/tweeteval-main/datasets/emotion/test_text.txt\", \"r\") \n",
        "#for line in df_test_text.readlines():\n",
        "#    line = line.strip()\n",
        "#    print(line)\n",
        "#df_test_text.close()\n",
        "#print(df_text_text.read())"
      ],
      "execution_count": 3,
      "outputs": []
    },
    {
      "cell_type": "markdown",
      "metadata": {
        "id": "SXJ9Hp13QGIv"
      },
      "source": [
        "###Create Pandas Dataframe for Emoji Dataset: test, train, and validation dataset"
      ]
    },
    {
      "cell_type": "code",
      "metadata": {
        "id": "AdvXsi-NXJMC",
        "outputId": "10493feb-c5a4-47b5-90d8-afada61e800f",
        "colab": {
          "base_uri": "https://localhost:8080/"
        }
      },
      "source": [
        "from google.colab import drive\n",
        "drive.mount('/content/drive')"
      ],
      "execution_count": 4,
      "outputs": [
        {
          "output_type": "stream",
          "text": [
            "Drive already mounted at /content/drive; to attempt to forcibly remount, call drive.mount(\"/content/drive\", force_remount=True).\n"
          ],
          "name": "stdout"
        }
      ]
    },
    {
      "cell_type": "code",
      "metadata": {
        "id": "a_lQXVQFOq68"
      },
      "source": [
        "#Create Emoji test dataset with text and labels\n",
        "emoji_test_text = pd.read_csv(\"/content/drive/MyDrive/CE888 Data Science for Decision Making/Tweet Evaluation Project/emoji/test_text.txt\", \n",
        "                              delimiter=\"\\t\", names=[\"Tweet text\"])\n",
        "emoji_test_labels = pd.read_csv(\"/content/drive/MyDrive/CE888 Data Science for Decision Making/Tweet Evaluation Project/emoji/test_labels.txt\",\n",
        "                                delimiter=\"\\t\", names=[\"labels\"])\n",
        "df_emoji_test = emoji_test_text.join(emoji_test_labels)\n",
        "#df_emoji_test.head(1)"
      ],
      "execution_count": 5,
      "outputs": []
    },
    {
      "cell_type": "code",
      "metadata": {
        "id": "Jchx_jidP57s"
      },
      "source": [
        "#Create Emoji train dataset with text and labels\n",
        "emoji_train_text = pd.read_csv(\"/content/drive/MyDrive/CE888 Data Science for Decision Making/Tweet Evaluation Project/emoji/train_text.txt\", \n",
        "                              delimiter=\"\\t\", names=[\"Tweet text\"])\n",
        "emoji_train_labels = pd.read_csv(\"/content/drive/MyDrive/CE888 Data Science for Decision Making/Tweet Evaluation Project/emoji/train_labels.txt\",\n",
        "                                delimiter=\"\\t\", names=[\"labels\"])\n",
        "df_emoji_train = emoji_train_text.join(emoji_train_labels)\n",
        "#df_emoji_train.head(1)"
      ],
      "execution_count": 6,
      "outputs": []
    },
    {
      "cell_type": "code",
      "metadata": {
        "id": "FxoZyMJ9Qz5p"
      },
      "source": [
        "#Create Emoji validation dataset with text and labels\n",
        "emoji_val_text = pd.read_csv(\"/content/drive/MyDrive/CE888 Data Science for Decision Making/Tweet Evaluation Project/emoji/val_text.txt\", \n",
        "                              delimiter=\"\\t\", names=[\"Tweet text\"])\n",
        "emoji_val_labels = pd.read_csv(\"/content/drive/MyDrive/CE888 Data Science for Decision Making/Tweet Evaluation Project/emoji/val_labels.txt\",\n",
        "                                delimiter=\"\\t\", names=[\"labels\"])\n",
        "df_emoji_val = emoji_val_text.join(emoji_val_labels)\n",
        "#df_emoji_val.head(1)"
      ],
      "execution_count": 7,
      "outputs": []
    },
    {
      "cell_type": "code",
      "metadata": {
        "colab": {
          "base_uri": "https://localhost:8080/"
        },
        "id": "uuna3TWoRLUl",
        "outputId": "ba335a32-2ccc-4dc0-8822-8814c9ed1e3e"
      },
      "source": [
        "#Types of labels for emoji dataset\n",
        "text_file_reader('/content/drive/MyDrive/CE888 Data Science for Decision Making/Tweet Evaluation Project/emoji/mapping.txt')"
      ],
      "execution_count": 8,
      "outputs": [
        {
          "output_type": "stream",
          "text": [
            "0\t❤\t_red_heart_\t\n",
            "1\t😍\t_smiling_face_with_hearteyes_\t\n",
            "2\t😂\t_face_with_tears_of_joy_\t\n",
            "3\t💕\t_two_hearts_\t\n",
            "4\t🔥\t_fire_\t\n",
            "5\t😊\t_smiling_face_with_smiling_eyes_\t\n",
            "6\t😎\t_smiling_face_with_sunglasses_\t\n",
            "7\t✨\t_sparkles_\t\n",
            "8\t💙\t_blue_heart_\t\n",
            "9\t😘\t_face_blowing_a_kiss_\t\n",
            "10\t📷\t_camera_\t\n",
            "11\t🇺🇸\t_United_States_\t\n",
            "12\t☀\t_sun_\t\n",
            "13\t💜\t_purple_heart_\t\n",
            "14\t😉\t_winking_face_\t\n",
            "15\t💯\t_hundred_points_\t\n",
            "16\t😁\t_beaming_face_with_smiling_eyes_\t\n",
            "17\t🎄\t_Christmas_tree_\t\n",
            "18\t📸\t_camera_with_flash_\t\n",
            "19\t😜\t_winking_face_with_tongue_\t\n",
            "\n"
          ],
          "name": "stdout"
        }
      ]
    },
    {
      "cell_type": "markdown",
      "metadata": {
        "id": "XnkHlvD4Rd4O"
      },
      "source": [
        "###Create Pandas Dataframe for emotion Dataset: test, train, and validation dataset"
      ]
    },
    {
      "cell_type": "code",
      "metadata": {
        "id": "zeDcCWMeRZvC"
      },
      "source": [
        "#Create Emotion test dataset with text and labels\n",
        "emotion_test_text = pd.read_csv(\"/content/drive/MyDrive/CE888 Data Science for Decision Making/Tweet Evaluation Project/emotion/test_text.txt\", \n",
        "                              delimiter=\"\\t\", names=[\"Tweet text\"])\n",
        "emotion_test_labels = pd.read_csv(\"/content/drive/MyDrive/CE888 Data Science for Decision Making/Tweet Evaluation Project/emotion/test_labels.txt\",\n",
        "                                delimiter=\"\\t\", names=[\"labels\"])\n",
        "df_emotion_test = emotion_test_text.join(emotion_test_labels)"
      ],
      "execution_count": 9,
      "outputs": []
    },
    {
      "cell_type": "code",
      "metadata": {
        "id": "M7gx03MoSIo4"
      },
      "source": [
        "#Create Emotion train dataset with text and labels\n",
        "emotion_train_text = pd.read_csv(\"/content/drive/MyDrive/CE888 Data Science for Decision Making/Tweet Evaluation Project/emotion/train_text.txt\", \n",
        "                              delimiter=\"\\t\", names=[\"Tweet text\"])\n",
        "emotion_train_labels = pd.read_csv(\"/content/drive/MyDrive/CE888 Data Science for Decision Making/Tweet Evaluation Project/emotion/train_labels.txt\",\n",
        "                                delimiter=\"\\t\", names=[\"labels\"])\n",
        "df_emotion_train = emotion_train_text.join(emotion_train_labels)"
      ],
      "execution_count": 10,
      "outputs": []
    },
    {
      "cell_type": "code",
      "metadata": {
        "id": "FYQBsZwfSYro"
      },
      "source": [
        "#Create Emotion validation dataset with text and labels\n",
        "emotion_val_text = pd.read_csv(\"/content/drive/MyDrive/CE888 Data Science for Decision Making/Tweet Evaluation Project/emotion/val_text.txt\", \n",
        "                              delimiter=\"\\t\", names=[\"Tweet text\"])\n",
        "emotion_val_labels = pd.read_csv(\"/content/drive/MyDrive/CE888 Data Science for Decision Making/Tweet Evaluation Project/emotion/val_labels.txt\",\n",
        "                                delimiter=\"\\t\", names=[\"labels\"])\n",
        "df_emotion_val = emotion_val_text.join(emotion_val_labels)"
      ],
      "execution_count": 11,
      "outputs": []
    },
    {
      "cell_type": "code",
      "metadata": {
        "colab": {
          "base_uri": "https://localhost:8080/"
        },
        "id": "jhQ5wiX9Rkm1",
        "outputId": "4c2a41af-04fc-4d3b-a179-1fc304abea62"
      },
      "source": [
        "#Types of labels for emotion dataset\n",
        "text_file_reader('/content/drive/MyDrive/CE888 Data Science for Decision Making/Tweet Evaluation Project/emotion/mapping.txt')"
      ],
      "execution_count": 12,
      "outputs": [
        {
          "output_type": "stream",
          "text": [
            "0\tanger\n",
            "1\tjoy\n",
            "2\toptimism\n",
            "3\tsadness\n"
          ],
          "name": "stdout"
        }
      ]
    },
    {
      "cell_type": "markdown",
      "metadata": {
        "id": "S02FJaJWTAU3"
      },
      "source": [
        "###Create Pandas Dataframe for sentiment Dataset: test, train, and validation dataset"
      ]
    },
    {
      "cell_type": "code",
      "metadata": {
        "id": "yWSTuVRcTNJ6"
      },
      "source": [
        "#Create Sentiment test dataset with text and labels\n",
        "sentiment_test_text = pd.read_csv(\"/content/drive/MyDrive/CE888 Data Science for Decision Making/Tweet Evaluation Project/sentiment/test_text.txt\", \n",
        "                              delimiter=\"\\t\", names=[\"Tweet text\"])\n",
        "sentimemt_test_labels = pd.read_csv(\"/content/drive/MyDrive/CE888 Data Science for Decision Making/Tweet Evaluation Project/sentiment/test_labels.txt\",\n",
        "                                delimiter=\"\\t\", names=[\"labels\"])\n",
        "df_sentiment_test = sentiment_test_text.join(sentimemt_test_labels)"
      ],
      "execution_count": 13,
      "outputs": []
    },
    {
      "cell_type": "code",
      "metadata": {
        "id": "SiWlMRqdTnJA"
      },
      "source": [
        "#Create Sentiment train dataset with text and labels\n",
        "sentiment_train_text = pd.read_csv(\"/content/drive/MyDrive/CE888 Data Science for Decision Making/Tweet Evaluation Project/sentiment/train_text.txt\", \n",
        "                              delimiter=\"\\t\", names=[\"Tweet text\"])\n",
        "sentimemt_train_labels = pd.read_csv(\"/content/drive/MyDrive/CE888 Data Science for Decision Making/Tweet Evaluation Project/sentiment/train_labels.txt\",\n",
        "                                delimiter=\"\\t\", names=[\"labels\"])\n",
        "df_sentiment_train = sentiment_train_text.join(sentimemt_train_labels)"
      ],
      "execution_count": 14,
      "outputs": []
    },
    {
      "cell_type": "code",
      "metadata": {
        "id": "RNpvIFIvUCN0"
      },
      "source": [
        "#Create Sentiment validation dataset with text and labels\n",
        "sentiment_val_text = pd.read_csv(\"/content/drive/MyDrive/CE888 Data Science for Decision Making/Tweet Evaluation Project/sentiment/val_text.txt\", \n",
        "                              delimiter=\"\\t\", names=[\"Tweet text\"])\n",
        "sentimemt_val_labels = pd.read_csv(\"/content/drive/MyDrive/CE888 Data Science for Decision Making/Tweet Evaluation Project/sentiment/val_labels.txt\",\n",
        "                                delimiter=\"\\t\", names=[\"labels\"])\n",
        "df_sentiment_val = sentiment_val_text.join(sentimemt_val_labels)"
      ],
      "execution_count": 15,
      "outputs": []
    },
    {
      "cell_type": "code",
      "metadata": {
        "colab": {
          "base_uri": "https://localhost:8080/"
        },
        "id": "68ObYtH1THZz",
        "outputId": "3da4d471-0535-4c28-ee10-558f268ce6d8"
      },
      "source": [
        "#Types of labels for sentiment dataset\n",
        "text_file_reader('/content/drive/MyDrive/CE888 Data Science for Decision Making/Tweet Evaluation Project/sentiment/mapping.txt')"
      ],
      "execution_count": 16,
      "outputs": [
        {
          "output_type": "stream",
          "text": [
            "0\tnegative\n",
            "1\tneutral\n",
            "2\tpositive\n",
            "\n"
          ],
          "name": "stdout"
        }
      ]
    },
    {
      "cell_type": "markdown",
      "metadata": {
        "id": "R3joj1bya0N7"
      },
      "source": [
        "##Check content of the DataFrames for Emoji, Emotion, and Sentiment"
      ]
    },
    {
      "cell_type": "code",
      "metadata": {
        "colab": {
          "base_uri": "https://localhost:8080/",
          "height": 142
        },
        "id": "LW7lg3yyUVQV",
        "outputId": "3e41f8f6-0075-43c8-a786-b285dc9ecd0b"
      },
      "source": [
        "#Check size of the datasets\n",
        "dataset_info = pd.DataFrame(data = {'test': [len(df_emoji_test), len(df_emotion_test), len(df_sentiment_test)], \n",
        "                                    'train': [len(df_emoji_train), len(df_emotion_train), len(df_sentiment_train)], \n",
        "                                    'validation': [len(df_emoji_val), len(df_emotion_val), len(df_sentiment_val)]},\n",
        "                            index = {'Emoji', 'Emotion', 'Sentiment'})\n",
        "dataset_info['train-test-split-ratio [%]'] = ((dataset_info['train'] / (dataset_info['test'] + dataset_info['train'])) *100).round(2)\n",
        "dataset_info"
      ],
      "execution_count": 17,
      "outputs": [
        {
          "output_type": "execute_result",
          "data": {
            "text/html": [
              "<div>\n",
              "<style scoped>\n",
              "    .dataframe tbody tr th:only-of-type {\n",
              "        vertical-align: middle;\n",
              "    }\n",
              "\n",
              "    .dataframe tbody tr th {\n",
              "        vertical-align: top;\n",
              "    }\n",
              "\n",
              "    .dataframe thead th {\n",
              "        text-align: right;\n",
              "    }\n",
              "</style>\n",
              "<table border=\"1\" class=\"dataframe\">\n",
              "  <thead>\n",
              "    <tr style=\"text-align: right;\">\n",
              "      <th></th>\n",
              "      <th>test</th>\n",
              "      <th>train</th>\n",
              "      <th>validation</th>\n",
              "      <th>train-test-split-ratio [%]</th>\n",
              "    </tr>\n",
              "  </thead>\n",
              "  <tbody>\n",
              "    <tr>\n",
              "      <th>Emoji</th>\n",
              "      <td>48746</td>\n",
              "      <td>42631</td>\n",
              "      <td>4471</td>\n",
              "      <td>46.65</td>\n",
              "    </tr>\n",
              "    <tr>\n",
              "      <th>Sentiment</th>\n",
              "      <td>1421</td>\n",
              "      <td>3257</td>\n",
              "      <td>374</td>\n",
              "      <td>69.62</td>\n",
              "    </tr>\n",
              "    <tr>\n",
              "      <th>Emotion</th>\n",
              "      <td>12032</td>\n",
              "      <td>36373</td>\n",
              "      <td>1623</td>\n",
              "      <td>75.14</td>\n",
              "    </tr>\n",
              "  </tbody>\n",
              "</table>\n",
              "</div>"
            ],
            "text/plain": [
              "            test  train  validation  train-test-split-ratio [%]\n",
              "Emoji      48746  42631        4471                       46.65\n",
              "Sentiment   1421   3257         374                       69.62\n",
              "Emotion    12032  36373        1623                       75.14"
            ]
          },
          "metadata": {
            "tags": []
          },
          "execution_count": 17
        }
      ]
    },
    {
      "cell_type": "code",
      "metadata": {
        "colab": {
          "base_uri": "https://localhost:8080/",
          "height": 85
        },
        "id": "De7PQhORbBYM",
        "outputId": "06c0603d-fd8b-4846-aa01-38bd12578079"
      },
      "source": [
        "#my_frame Display pandas table\n",
        "\n",
        "fig = plt.figure(figsize = (10, 1))\n",
        "ax = fig.add_subplot(111)\n",
        "\n",
        "ax.table(cellText = dataset_info.values,\n",
        "          rowLabels = dataset_info.index,\n",
        "          colLabels = dataset_info.columns,\n",
        "          loc = \"center\")\n",
        "\n",
        "#ax.set_title(\"Size of Test/ Train/ Validation Dataset by Cateogry\")\n",
        "\n",
        "ax.axis(\"off\");\n",
        "\n",
        "plt.savefig(\"dataset_info.png\")"
      ],
      "execution_count": 18,
      "outputs": [
        {
          "output_type": "display_data",
          "data": {
            "image/png": "[encoded data removed]",
            "text/plain": [
              "<Figure size 720x72 with 1 Axes>"
            ]
          },
          "metadata": {
            "tags": [],
            "needs_background": "light"
          }
        }
      ]
    },
    {
      "cell_type": "markdown",
      "metadata": {
        "id": "KiTa3EeHgoxH"
      },
      "source": [
        "##Conduct Pre-Processing"
      ]
    },
    {
      "cell_type": "markdown",
      "metadata": {
        "id": "RGoSJwsDqmO7"
      },
      "source": [
        "### Create a columns storing hashtags before preprocessing the tweets (for your information)"
      ]
    },
    {
      "cell_type": "code",
      "metadata": {
        "id": "o-Dg4pHUXBWL"
      },
      "source": [
        "#Create a funtion that adds a column with hashtags in tweet text\n",
        "import re\n",
        "\n",
        "def tweet_extractor(data):\n",
        "  data['hashtag'] = data['Tweet text'].apply(lambda x: re.findall(r\"#(\\w+)\", x))\n",
        "  return data"
      ],
      "execution_count": 19,
      "outputs": []
    },
    {
      "cell_type": "code",
      "metadata": {
        "colab": {
          "base_uri": "https://localhost:8080/",
          "height": 419
        },
        "id": "KoChI8MWfQvP",
        "outputId": "7ba16890-3c47-4c22-8714-880ec2254a66"
      },
      "source": [
        "tweet_extractor(df_sentiment_val)"
      ],
      "execution_count": 86,
      "outputs": [
        {
          "output_type": "execute_result",
          "data": {
            "text/html": [
              "<div>\n",
              "<style scoped>\n",
              "    .dataframe tbody tr th:only-of-type {\n",
              "        vertical-align: middle;\n",
              "    }\n",
              "\n",
              "    .dataframe tbody tr th {\n",
              "        vertical-align: top;\n",
              "    }\n",
              "\n",
              "    .dataframe thead th {\n",
              "        text-align: right;\n",
              "    }\n",
              "</style>\n",
              "<table border=\"1\" class=\"dataframe\">\n",
              "  <thead>\n",
              "    <tr style=\"text-align: right;\">\n",
              "      <th></th>\n",
              "      <th>Tweet text</th>\n",
              "      <th>labels</th>\n",
              "      <th>hashtag</th>\n",
              "    </tr>\n",
              "  </thead>\n",
              "  <tbody>\n",
              "    <tr>\n",
              "      <th>0</th>\n",
              "      <td>Dark Souls 3 April Launch Date Confirmed With ...</td>\n",
              "      <td>1</td>\n",
              "      <td>[]</td>\n",
              "    </tr>\n",
              "    <tr>\n",
              "      <th>1</th>\n",
              "      <td>National hot dog day, national tequila day, th...</td>\n",
              "      <td>2</td>\n",
              "      <td>[]</td>\n",
              "    </tr>\n",
              "    <tr>\n",
              "      <th>2</th>\n",
              "      <td>When girls become bandwagon fans of the Packer...</td>\n",
              "      <td>0</td>\n",
              "      <td>[]</td>\n",
              "    </tr>\n",
              "    <tr>\n",
              "      <th>3</th>\n",
              "      <td>@user I may or may not have searched it up on ...</td>\n",
              "      <td>1</td>\n",
              "      <td>[]</td>\n",
              "    </tr>\n",
              "    <tr>\n",
              "      <th>4</th>\n",
              "      <td>Here's your starting TUESDAY MORNING Line up a...</td>\n",
              "      <td>1</td>\n",
              "      <td>[]</td>\n",
              "    </tr>\n",
              "    <tr>\n",
              "      <th>...</th>\n",
              "      <td>...</td>\n",
              "      <td>...</td>\n",
              "      <td>...</td>\n",
              "    </tr>\n",
              "    <tr>\n",
              "      <th>1618</th>\n",
              "      <td>@user  A trunk show by Pipa &amp; bella &amp; EKSMS on...</td>\n",
              "      <td>1</td>\n",
              "      <td>[]</td>\n",
              "    </tr>\n",
              "    <tr>\n",
              "      <th>1619</th>\n",
              "      <td>kingpin Saudi Arabia posted a record $98 billi...</td>\n",
              "      <td>1</td>\n",
              "      <td>[]</td>\n",
              "    </tr>\n",
              "    <tr>\n",
              "      <th>1620</th>\n",
              "      <td>@user @user I think after Charlie Hebdo the Fr...</td>\n",
              "      <td>1</td>\n",
              "      <td>[]</td>\n",
              "    </tr>\n",
              "    <tr>\n",
              "      <th>1621</th>\n",
              "      <td>Beautiful Bouquet with our Beautiful Bentley #...</td>\n",
              "      <td>1</td>\n",
              "      <td>[bride, groom, wedding, wednesday, weddingcars...</td>\n",
              "    </tr>\n",
              "    <tr>\n",
              "      <th>1622</th>\n",
              "      <td>LONDON (AP) \" Prince George celebrates his sec...</td>\n",
              "      <td>1</td>\n",
              "      <td>[007, SPECTRE, JamesBond]</td>\n",
              "    </tr>\n",
              "  </tbody>\n",
              "</table>\n",
              "<p>1623 rows × 3 columns</p>\n",
              "</div>"
            ],
            "text/plain": [
              "                                             Tweet text  ...                                            hashtag\n",
              "0     Dark Souls 3 April Launch Date Confirmed With ...  ...                                                 []\n",
              "1     National hot dog day, national tequila day, th...  ...                                                 []\n",
              "2     When girls become bandwagon fans of the Packer...  ...                                                 []\n",
              "3     @user I may or may not have searched it up on ...  ...                                                 []\n",
              "4     Here's your starting TUESDAY MORNING Line up a...  ...                                                 []\n",
              "...                                                 ...  ...                                                ...\n",
              "1618  @user  A trunk show by Pipa & bella & EKSMS on...  ...                                                 []\n",
              "1619  kingpin Saudi Arabia posted a record $98 billi...  ...                                                 []\n",
              "1620  @user @user I think after Charlie Hebdo the Fr...  ...                                                 []\n",
              "1621  Beautiful Bouquet with our Beautiful Bentley #...  ...  [bride, groom, wedding, wednesday, weddingcars...\n",
              "1622  LONDON (AP) \" Prince George celebrates his sec...  ...                          [007, SPECTRE, JamesBond]\n",
              "\n",
              "[1623 rows x 3 columns]"
            ]
          },
          "metadata": {
            "tags": []
          },
          "execution_count": 86
        }
      ]
    },
    {
      "cell_type": "markdown",
      "metadata": {
        "id": "I5MQWXvMq_kD"
      },
      "source": [
        "### Preprocess tweet text using `tweet-preprocessor`"
      ]
    },
    {
      "cell_type": "code",
      "metadata": {
        "colab": {
          "base_uri": "https://localhost:8080/"
        },
        "id": "puZPHx_hYGew",
        "outputId": "31282d32-f2cb-4ba6-a419-bf97281a24a5"
      },
      "source": [
        "#installing tweet-preprocessor\n",
        "!pip install tweet-preprocessor\n",
        "import preprocessor as p"
      ],
      "execution_count": 21,
      "outputs": [
        {
          "output_type": "stream",
          "text": [
            "Requirement already satisfied: tweet-preprocessor in /usr/local/lib/python3.7/dist-packages (0.6.0)\n"
          ],
          "name": "stdout"
        }
      ]
    },
    {
      "cell_type": "code",
      "metadata": {
        "id": "avG6UQbrkVDe"
      },
      "source": [
        "def preprocess_tweet(row):\n",
        "    text = row['Tweet text']\n",
        "    text = p.clean(text)\n",
        "    return text"
      ],
      "execution_count": 22,
      "outputs": []
    },
    {
      "cell_type": "code",
      "metadata": {
        "id": "xAhRBgr9kpWX"
      },
      "source": [
        "df_sentiment_val['cleaned_text'] = df_sentiment_val.apply(preprocess_tweet, axis=1)\n",
        "#df_emoji/emotion/sentiment_train/test/val.test()"
      ],
      "execution_count": 87,
      "outputs": []
    },
    {
      "cell_type": "markdown",
      "metadata": {
        "id": "XlGn7_4mmPe7"
      },
      "source": [
        "### Remove Stopwords"
      ]
    },
    {
      "cell_type": "code",
      "metadata": {
        "id": "k5j6WRvwlNpU"
      },
      "source": [
        "from gensim.parsing.preprocessing import remove_stopwords"
      ],
      "execution_count": 24,
      "outputs": []
    },
    {
      "cell_type": "code",
      "metadata": {
        "id": "nee4rIyZYIBh"
      },
      "source": [
        "def stopword_removal(row):\n",
        "    text = row['cleaned_text']\n",
        "    text = remove_stopwords(text)\n",
        "    return text"
      ],
      "execution_count": 25,
      "outputs": []
    },
    {
      "cell_type": "code",
      "metadata": {
        "id": "4-ANFDf1YIBi"
      },
      "source": [
        "df_sentiment_val['cleaned_text'] = df_sentiment_val.apply(stopword_removal, axis=1)\n",
        "#df_emoji/emotion/sentiment_train/test/val.test()"
      ],
      "execution_count": 88,
      "outputs": []
    },
    {
      "cell_type": "markdown",
      "metadata": {
        "id": "Spx_iXaYmKm6"
      },
      "source": [
        "### Remove extra white spaces, punctuation and apply lower casing"
      ]
    },
    {
      "cell_type": "code",
      "metadata": {
        "id": "PUHPEWEclzlm"
      },
      "source": [
        "df_sentiment_val['cleaned_text'] = df_sentiment_val['cleaned_text'].str.lower().str.replace('[^\\w\\s]',' ').str.replace('\\s\\s+', ' ').str.replace('\\d+', '')\n",
        "#df_emoji/emotion/sentiment_train/test/val.test()"
      ],
      "execution_count": 89,
      "outputs": []
    },
    {
      "cell_type": "markdown",
      "metadata": {
        "id": "LjlIM8veoTIE"
      },
      "source": [
        "### Impliment Lemmatization & Tokenization utilizing NLTK"
      ]
    },
    {
      "cell_type": "code",
      "metadata": {
        "id": "IsQNSvE1o5dz",
        "outputId": "ba00ba45-a336-4ca4-a53e-610ffabaff57",
        "colab": {
          "base_uri": "https://localhost:8080/"
        }
      },
      "source": [
        "import pandas as pd\n",
        "import nltk\n",
        "nltk.download('punkt')\n",
        "\n",
        "w_tokenizer = nltk.tokenize.WhitespaceTokenizer()\n",
        "lemmatizer = nltk.stem.WordNetLemmatizer()\n",
        "\n",
        "def lemmatize_text(text):\n",
        "    return [lemmatizer.lemmatize(w) for w in w_tokenizer.tokenize(text)]\n",
        "\n",
        "#df['text_lemmatized'] = df.text.apply(lemmatize_text)\n",
        "df_sentiment_val['tokenized_lemmatized_text'] = df_sentiment_val['cleaned_text'].apply(lemmatize_text)\n",
        "#df_emoji/emotion/sentiment_train/test/val.test()"
      ],
      "execution_count": 90,
      "outputs": [
        {
          "output_type": "stream",
          "text": [
            "[nltk_data] Downloading package punkt to /root/nltk_data...\n",
            "[nltk_data]   Package punkt is already up-to-date!\n"
          ],
          "name": "stdout"
        }
      ]
    },
    {
      "cell_type": "code",
      "metadata": {
        "id": "sl6p-T41rHmR"
      },
      "source": [
        "def preprocess(dataset):\n",
        "  dataset['cleaned_text'] = dataset['Tweet text'].apply(preprocess_tweet)\n",
        "  dataset['cleaned_text'] = dataset['cleaned_text'].apply(stopword_removal, axis=1)\n",
        "  dataset['cleaned_text'] = dataset['cleaned_text'].str.lower().str.replace('[^\\w\\s]',' ').str.replace('\\s\\s+', ' ').str.replace('\\d+', '')\n",
        "  dataset['tokenized_lemmatized_text'] = dataset['cleaned_text'].apply(lemmatize_text)\n",
        "  return datset"
      ],
      "execution_count": 29,
      "outputs": []
    },
    {
      "cell_type": "markdown",
      "metadata": {
        "id": "bk6jm_iTs8G6"
      },
      "source": [
        "### Preprocess all datasets and save as CSV file and upload to GoogleDrive\n",
        "\n",
        "- You can downlaod the preprocessed datasets from the GitHub repository"
      ]
    },
    {
      "cell_type": "markdown",
      "metadata": {
        "id": "SWQ_EmNDxyeQ"
      },
      "source": [
        "#### Preprocessed Emoji Datasets"
      ]
    },
    {
      "cell_type": "code",
      "metadata": {
        "id": "XZaL-9dFuo3Y",
        "outputId": "033865c8-cd30-45b5-8fb4-cd55aece6361",
        "colab": {
          "base_uri": "https://localhost:8080/",
          "height": 80
        }
      },
      "source": [
        "df_emoji_train.to_csv('df_emoji_train.csv', index=False)\n",
        "df_emoji_train.head(1)"
      ],
      "execution_count": 92,
      "outputs": [
        {
          "output_type": "execute_result",
          "data": {
            "text/html": [
              "<div>\n",
              "<style scoped>\n",
              "    .dataframe tbody tr th:only-of-type {\n",
              "        vertical-align: middle;\n",
              "    }\n",
              "\n",
              "    .dataframe tbody tr th {\n",
              "        vertical-align: top;\n",
              "    }\n",
              "\n",
              "    .dataframe thead th {\n",
              "        text-align: right;\n",
              "    }\n",
              "</style>\n",
              "<table border=\"1\" class=\"dataframe\">\n",
              "  <thead>\n",
              "    <tr style=\"text-align: right;\">\n",
              "      <th></th>\n",
              "      <th>Tweet text</th>\n",
              "      <th>labels</th>\n",
              "      <th>hashtag</th>\n",
              "      <th>cleaned_text</th>\n",
              "      <th>tokenized_lemmatized_text</th>\n",
              "    </tr>\n",
              "  </thead>\n",
              "  <tbody>\n",
              "    <tr>\n",
              "      <th>0</th>\n",
              "      <td>Sunday afternoon walking through Venice in the...</td>\n",
              "      <td>12</td>\n",
              "      <td>[]</td>\n",
              "      <td>sunday afternoon walking venice sun abbot kinn...</td>\n",
              "      <td>[sunday, afternoon, walking, venice, sun, abbo...</td>\n",
              "    </tr>\n",
              "  </tbody>\n",
              "</table>\n",
              "</div>"
            ],
            "text/plain": [
              "                                          Tweet text  ...                          tokenized_lemmatized_text\n",
              "0  Sunday afternoon walking through Venice in the...  ...  [sunday, afternoon, walking, venice, sun, abbo...\n",
              "\n",
              "[1 rows x 5 columns]"
            ]
          },
          "metadata": {
            "tags": []
          },
          "execution_count": 92
        }
      ]
    },
    {
      "cell_type": "code",
      "metadata": {
        "id": "UoX99TaxxFOO",
        "outputId": "b5038b4b-3df7-4aca-8356-37b30ab2f1f7",
        "colab": {
          "base_uri": "https://localhost:8080/",
          "height": 80
        }
      },
      "source": [
        "df_emoji_test.to_csv('df_emoji_test.csv', index=False)\n",
        "df_emoji_test.head(1)"
      ],
      "execution_count": 93,
      "outputs": [
        {
          "output_type": "execute_result",
          "data": {
            "text/html": [
              "<div>\n",
              "<style scoped>\n",
              "    .dataframe tbody tr th:only-of-type {\n",
              "        vertical-align: middle;\n",
              "    }\n",
              "\n",
              "    .dataframe tbody tr th {\n",
              "        vertical-align: top;\n",
              "    }\n",
              "\n",
              "    .dataframe thead th {\n",
              "        text-align: right;\n",
              "    }\n",
              "</style>\n",
              "<table border=\"1\" class=\"dataframe\">\n",
              "  <thead>\n",
              "    <tr style=\"text-align: right;\">\n",
              "      <th></th>\n",
              "      <th>Tweet text</th>\n",
              "      <th>labels</th>\n",
              "      <th>hashtag</th>\n",
              "      <th>cleaned_text</th>\n",
              "      <th>tokenized_lemmatized_text</th>\n",
              "    </tr>\n",
              "  </thead>\n",
              "  <tbody>\n",
              "    <tr>\n",
              "      <th>0</th>\n",
              "      <td>en Pelham Parkway</td>\n",
              "      <td>2</td>\n",
              "      <td>[]</td>\n",
              "      <td>en pelham parkway</td>\n",
              "      <td>[en, pelham, parkway]</td>\n",
              "    </tr>\n",
              "  </tbody>\n",
              "</table>\n",
              "</div>"
            ],
            "text/plain": [
              "          Tweet text  labels  ...       cleaned_text tokenized_lemmatized_text\n",
              "0  en Pelham Parkway       2  ...  en pelham parkway     [en, pelham, parkway]\n",
              "\n",
              "[1 rows x 5 columns]"
            ]
          },
          "metadata": {
            "tags": []
          },
          "execution_count": 93
        }
      ]
    },
    {
      "cell_type": "code",
      "metadata": {
        "id": "3U6iqh7Axtt0",
        "outputId": "1622a4df-1f88-43e0-b677-a37963f51113",
        "colab": {
          "base_uri": "https://localhost:8080/",
          "height": 80
        }
      },
      "source": [
        "df_emoji_val.to_csv('df_emoji_val.csv', index=False)\n",
        "df_emoji_val.head(1)"
      ],
      "execution_count": 94,
      "outputs": [
        {
          "output_type": "execute_result",
          "data": {
            "text/html": [
              "<div>\n",
              "<style scoped>\n",
              "    .dataframe tbody tr th:only-of-type {\n",
              "        vertical-align: middle;\n",
              "    }\n",
              "\n",
              "    .dataframe tbody tr th {\n",
              "        vertical-align: top;\n",
              "    }\n",
              "\n",
              "    .dataframe thead th {\n",
              "        text-align: right;\n",
              "    }\n",
              "</style>\n",
              "<table border=\"1\" class=\"dataframe\">\n",
              "  <thead>\n",
              "    <tr style=\"text-align: right;\">\n",
              "      <th></th>\n",
              "      <th>Tweet text</th>\n",
              "      <th>labels</th>\n",
              "      <th>hashtag</th>\n",
              "      <th>cleaned_text</th>\n",
              "      <th>tokenized_lemmatized_text</th>\n",
              "    </tr>\n",
              "  </thead>\n",
              "  <tbody>\n",
              "    <tr>\n",
              "      <th>0</th>\n",
              "      <td>A little throwback with my favourite person @ ...</td>\n",
              "      <td>0</td>\n",
              "      <td>[]</td>\n",
              "      <td>a little throwback favourite person water wall</td>\n",
              "      <td>[a, little, throwback, favourite, person, wate...</td>\n",
              "    </tr>\n",
              "  </tbody>\n",
              "</table>\n",
              "</div>"
            ],
            "text/plain": [
              "                                          Tweet text  ...                          tokenized_lemmatized_text\n",
              "0  A little throwback with my favourite person @ ...  ...  [a, little, throwback, favourite, person, wate...\n",
              "\n",
              "[1 rows x 5 columns]"
            ]
          },
          "metadata": {
            "tags": []
          },
          "execution_count": 94
        }
      ]
    },
    {
      "cell_type": "markdown",
      "metadata": {
        "id": "xDS6l3wJydZv"
      },
      "source": [
        "#### Preprocessed Emotion Datasets"
      ]
    },
    {
      "cell_type": "code",
      "metadata": {
        "id": "wiZaNKTTybz2",
        "outputId": "0b883564-c677-4d29-f93d-614b71b1ae2c",
        "colab": {
          "base_uri": "https://localhost:8080/",
          "height": 80
        }
      },
      "source": [
        "df_emotion_train.to_csv('df_emotion_train.csv', index=False)\n",
        "df_emotion_train.head(1)"
      ],
      "execution_count": 95,
      "outputs": [
        {
          "output_type": "execute_result",
          "data": {
            "text/html": [
              "<div>\n",
              "<style scoped>\n",
              "    .dataframe tbody tr th:only-of-type {\n",
              "        vertical-align: middle;\n",
              "    }\n",
              "\n",
              "    .dataframe tbody tr th {\n",
              "        vertical-align: top;\n",
              "    }\n",
              "\n",
              "    .dataframe thead th {\n",
              "        text-align: right;\n",
              "    }\n",
              "</style>\n",
              "<table border=\"1\" class=\"dataframe\">\n",
              "  <thead>\n",
              "    <tr style=\"text-align: right;\">\n",
              "      <th></th>\n",
              "      <th>Tweet text</th>\n",
              "      <th>labels</th>\n",
              "      <th>hashtag</th>\n",
              "      <th>cleaned_text</th>\n",
              "      <th>tokenized_lemmatized_text</th>\n",
              "    </tr>\n",
              "  </thead>\n",
              "  <tbody>\n",
              "    <tr>\n",
              "      <th>0</th>\n",
              "      <td>“Worry is a down payment on a problem you may ...</td>\n",
              "      <td>2</td>\n",
              "      <td>[motivation, leadership, worry]</td>\n",
              "      <td>worry payment problem have joyce meyer</td>\n",
              "      <td>[worry, payment, problem, have, joyce, meyer]</td>\n",
              "    </tr>\n",
              "  </tbody>\n",
              "</table>\n",
              "</div>"
            ],
            "text/plain": [
              "                                          Tweet text  ...                      tokenized_lemmatized_text\n",
              "0  “Worry is a down payment on a problem you may ...  ...  [worry, payment, problem, have, joyce, meyer]\n",
              "\n",
              "[1 rows x 5 columns]"
            ]
          },
          "metadata": {
            "tags": []
          },
          "execution_count": 95
        }
      ]
    },
    {
      "cell_type": "code",
      "metadata": {
        "id": "2FORS9YvzBYh",
        "outputId": "4acf7540-9887-4130-9eb8-3a015c98e7b8",
        "colab": {
          "base_uri": "https://localhost:8080/",
          "height": 80
        }
      },
      "source": [
        "df_emotion_test.to_csv('df_emotion_test.csv', index=False)\n",
        "df_emotion_test.head(1)"
      ],
      "execution_count": 96,
      "outputs": [
        {
          "output_type": "execute_result",
          "data": {
            "text/html": [
              "<div>\n",
              "<style scoped>\n",
              "    .dataframe tbody tr th:only-of-type {\n",
              "        vertical-align: middle;\n",
              "    }\n",
              "\n",
              "    .dataframe tbody tr th {\n",
              "        vertical-align: top;\n",
              "    }\n",
              "\n",
              "    .dataframe thead th {\n",
              "        text-align: right;\n",
              "    }\n",
              "</style>\n",
              "<table border=\"1\" class=\"dataframe\">\n",
              "  <thead>\n",
              "    <tr style=\"text-align: right;\">\n",
              "      <th></th>\n",
              "      <th>Tweet text</th>\n",
              "      <th>labels</th>\n",
              "      <th>hashtag</th>\n",
              "      <th>cleaned_text</th>\n",
              "      <th>tokenized_lemmatized_text</th>\n",
              "    </tr>\n",
              "  </thead>\n",
              "  <tbody>\n",
              "    <tr>\n",
              "      <th>0</th>\n",
              "      <td>#Deppression is real. Partners w/ #depressed p...</td>\n",
              "      <td>3</td>\n",
              "      <td>[Deppression, depressed, anxiety]</td>\n",
              "      <td>real partners w people truly dont understand d...</td>\n",
              "      <td>[real, partner, w, people, truly, dont, unders...</td>\n",
              "    </tr>\n",
              "  </tbody>\n",
              "</table>\n",
              "</div>"
            ],
            "text/plain": [
              "                                          Tweet text  ...                          tokenized_lemmatized_text\n",
              "0  #Deppression is real. Partners w/ #depressed p...  ...  [real, partner, w, people, truly, dont, unders...\n",
              "\n",
              "[1 rows x 5 columns]"
            ]
          },
          "metadata": {
            "tags": []
          },
          "execution_count": 96
        }
      ]
    },
    {
      "cell_type": "code",
      "metadata": {
        "id": "Bju_9RV7zYOj",
        "outputId": "7e041899-4af3-4dc9-e5e9-3d952623cee2",
        "colab": {
          "base_uri": "https://localhost:8080/",
          "height": 80
        }
      },
      "source": [
        "df_emotion_val.to_csv('df_emotion_val.csv', index=False)\n",
        "df_emotion_val.head(1)"
      ],
      "execution_count": 97,
      "outputs": [
        {
          "output_type": "execute_result",
          "data": {
            "text/html": [
              "<div>\n",
              "<style scoped>\n",
              "    .dataframe tbody tr th:only-of-type {\n",
              "        vertical-align: middle;\n",
              "    }\n",
              "\n",
              "    .dataframe tbody tr th {\n",
              "        vertical-align: top;\n",
              "    }\n",
              "\n",
              "    .dataframe thead th {\n",
              "        text-align: right;\n",
              "    }\n",
              "</style>\n",
              "<table border=\"1\" class=\"dataframe\">\n",
              "  <thead>\n",
              "    <tr style=\"text-align: right;\">\n",
              "      <th></th>\n",
              "      <th>Tweet text</th>\n",
              "      <th>labels</th>\n",
              "      <th>hashtag</th>\n",
              "      <th>cleaned_text</th>\n",
              "      <th>tokenized_lemmatized_text</th>\n",
              "    </tr>\n",
              "  </thead>\n",
              "  <tbody>\n",
              "    <tr>\n",
              "      <th>0</th>\n",
              "      <td>@user @user Oh, hidden revenge and anger...I r...</td>\n",
              "      <td>0</td>\n",
              "      <td>[]</td>\n",
              "      <td>oh hidden revenge anger i rememberthe time she...</td>\n",
              "      <td>[oh, hidden, revenge, anger, i, rememberthe, t...</td>\n",
              "    </tr>\n",
              "  </tbody>\n",
              "</table>\n",
              "</div>"
            ],
            "text/plain": [
              "                                          Tweet text  ...                          tokenized_lemmatized_text\n",
              "0  @user @user Oh, hidden revenge and anger...I r...  ...  [oh, hidden, revenge, anger, i, rememberthe, t...\n",
              "\n",
              "[1 rows x 5 columns]"
            ]
          },
          "metadata": {
            "tags": []
          },
          "execution_count": 97
        }
      ]
    },
    {
      "cell_type": "markdown",
      "metadata": {
        "id": "uyCbYfYAzvTh"
      },
      "source": [
        "#### Preprocess Sentiment Datasets"
      ]
    },
    {
      "cell_type": "code",
      "metadata": {
        "id": "4ZVWLbPZzyci",
        "outputId": "869a17ea-05df-4316-b8cc-1ccbd28bda69",
        "colab": {
          "base_uri": "https://localhost:8080/",
          "height": 80
        }
      },
      "source": [
        "df_sentiment_train.to_csv('df_sentiment_train.csv', index=False)\n",
        "df_sentiment_train.head(1)"
      ],
      "execution_count": 98,
      "outputs": [
        {
          "output_type": "execute_result",
          "data": {
            "text/html": [
              "<div>\n",
              "<style scoped>\n",
              "    .dataframe tbody tr th:only-of-type {\n",
              "        vertical-align: middle;\n",
              "    }\n",
              "\n",
              "    .dataframe tbody tr th {\n",
              "        vertical-align: top;\n",
              "    }\n",
              "\n",
              "    .dataframe thead th {\n",
              "        text-align: right;\n",
              "    }\n",
              "</style>\n",
              "<table border=\"1\" class=\"dataframe\">\n",
              "  <thead>\n",
              "    <tr style=\"text-align: right;\">\n",
              "      <th></th>\n",
              "      <th>Tweet text</th>\n",
              "      <th>labels</th>\n",
              "      <th>hashtag</th>\n",
              "      <th>cleaned_text</th>\n",
              "      <th>tokenized_lemmatized_text</th>\n",
              "    </tr>\n",
              "  </thead>\n",
              "  <tbody>\n",
              "    <tr>\n",
              "      <th>0</th>\n",
              "      <td>QT @user In the original draft of the 7th book...</td>\n",
              "      <td>2</td>\n",
              "      <td>[HappyBirthdayRemusLupin]</td>\n",
              "      <td>qt in original draft th book remus lupin survi...</td>\n",
              "      <td>[qt, in, original, draft, th, book, remus, lup...</td>\n",
              "    </tr>\n",
              "  </tbody>\n",
              "</table>\n",
              "</div>"
            ],
            "text/plain": [
              "                                          Tweet text  ...                          tokenized_lemmatized_text\n",
              "0  QT @user In the original draft of the 7th book...  ...  [qt, in, original, draft, th, book, remus, lup...\n",
              "\n",
              "[1 rows x 5 columns]"
            ]
          },
          "metadata": {
            "tags": []
          },
          "execution_count": 98
        }
      ]
    },
    {
      "cell_type": "code",
      "metadata": {
        "id": "NW6fZQPt0dRo",
        "outputId": "6250d684-2a18-45b0-f41e-abe687af3de0",
        "colab": {
          "base_uri": "https://localhost:8080/",
          "height": 80
        }
      },
      "source": [
        "df_sentiment_test.to_csv('df_sentiment_test.csv', index=False)\n",
        "df_sentiment_test.head(1)"
      ],
      "execution_count": 99,
      "outputs": [
        {
          "output_type": "execute_result",
          "data": {
            "text/html": [
              "<div>\n",
              "<style scoped>\n",
              "    .dataframe tbody tr th:only-of-type {\n",
              "        vertical-align: middle;\n",
              "    }\n",
              "\n",
              "    .dataframe tbody tr th {\n",
              "        vertical-align: top;\n",
              "    }\n",
              "\n",
              "    .dataframe thead th {\n",
              "        text-align: right;\n",
              "    }\n",
              "</style>\n",
              "<table border=\"1\" class=\"dataframe\">\n",
              "  <thead>\n",
              "    <tr style=\"text-align: right;\">\n",
              "      <th></th>\n",
              "      <th>Tweet text</th>\n",
              "      <th>labels</th>\n",
              "      <th>hashtag</th>\n",
              "      <th>cleaned_text</th>\n",
              "      <th>tokenized_lemmatized_text</th>\n",
              "    </tr>\n",
              "  </thead>\n",
              "  <tbody>\n",
              "    <tr>\n",
              "      <th>0</th>\n",
              "      <td>@user @user what do these '1/2 naked pics' hav...</td>\n",
              "      <td>1</td>\n",
              "      <td>[]</td>\n",
              "      <td>naked pics anything they re like that</td>\n",
              "      <td>[naked, pic, anything, they, re, like, that]</td>\n",
              "    </tr>\n",
              "  </tbody>\n",
              "</table>\n",
              "</div>"
            ],
            "text/plain": [
              "                                          Tweet text  ...                     tokenized_lemmatized_text\n",
              "0  @user @user what do these '1/2 naked pics' hav...  ...  [naked, pic, anything, they, re, like, that]\n",
              "\n",
              "[1 rows x 5 columns]"
            ]
          },
          "metadata": {
            "tags": []
          },
          "execution_count": 99
        }
      ]
    },
    {
      "cell_type": "code",
      "metadata": {
        "id": "ylqDn6Y60wVk",
        "outputId": "b1326cb2-d835-4198-aead-648e64b0504a",
        "colab": {
          "base_uri": "https://localhost:8080/",
          "height": 80
        }
      },
      "source": [
        "df_sentiment_val.to_csv('df_sentiment_val.csv', index=False)\n",
        "df_sentiment_val.head(1)"
      ],
      "execution_count": 102,
      "outputs": [
        {
          "output_type": "execute_result",
          "data": {
            "text/html": [
              "<div>\n",
              "<style scoped>\n",
              "    .dataframe tbody tr th:only-of-type {\n",
              "        vertical-align: middle;\n",
              "    }\n",
              "\n",
              "    .dataframe tbody tr th {\n",
              "        vertical-align: top;\n",
              "    }\n",
              "\n",
              "    .dataframe thead th {\n",
              "        text-align: right;\n",
              "    }\n",
              "</style>\n",
              "<table border=\"1\" class=\"dataframe\">\n",
              "  <thead>\n",
              "    <tr style=\"text-align: right;\">\n",
              "      <th></th>\n",
              "      <th>Tweet text</th>\n",
              "      <th>labels</th>\n",
              "      <th>hashtag</th>\n",
              "      <th>cleaned_text</th>\n",
              "      <th>tokenized_lemmatized_text</th>\n",
              "    </tr>\n",
              "  </thead>\n",
              "  <tbody>\n",
              "    <tr>\n",
              "      <th>0</th>\n",
              "      <td>Dark Souls 3 April Launch Date Confirmed With ...</td>\n",
              "      <td>1</td>\n",
              "      <td>[]</td>\n",
              "      <td>dark souls april launch date confirmed with ne...</td>\n",
              "      <td>[dark, soul, april, launch, date, confirmed, w...</td>\n",
              "    </tr>\n",
              "  </tbody>\n",
              "</table>\n",
              "</div>"
            ],
            "text/plain": [
              "                                          Tweet text  ...                          tokenized_lemmatized_text\n",
              "0  Dark Souls 3 April Launch Date Confirmed With ...  ...  [dark, soul, april, launch, date, confirmed, w...\n",
              "\n",
              "[1 rows x 5 columns]"
            ]
          },
          "metadata": {
            "tags": []
          },
          "execution_count": 102
        }
      ]
    }
  ]
}