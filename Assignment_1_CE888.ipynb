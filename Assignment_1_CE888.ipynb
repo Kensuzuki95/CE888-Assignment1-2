{
  "nbformat": 4,
  "nbformat_minor": 0,
  "metadata": {
    "colab": {
      "name": "Assignment 1 CE888.ipynb",
      "provenance": [],
      "collapsed_sections": [],
      "toc_visible": true
    },
    "kernelspec": {
      "name": "python3",
      "display_name": "Python 3"
    }
  },
  "cells": [
    {
      "cell_type": "markdown",
      "metadata": {
        "id": "1vIaMRPQdk42"
      },
      "source": [
        "##Load the dataset and check the content of the data\r\n",
        "\r\n"
      ]
    },
    {
      "cell_type": "code",
      "metadata": {
        "id": "lfHQuctlZM9G"
      },
      "source": [
        "#Load necesarry packages \r\n",
        "import pandas as pd\r\n",
        "import numpy as np\r\n",
        "import matplotlib.pyplot as plt\r\n",
        "import seaborn as sns"
      ],
      "execution_count": 81,
      "outputs": []
    },
    {
      "cell_type": "code",
      "metadata": {
        "id": "iIBNabBhkOY_"
      },
      "source": [
        "#Create function view content in .txt file\r\n",
        "def text_file_reader(data):\r\n",
        "  with open(data) as f:\r\n",
        "    contents = f.read()\r\n",
        "    print(contents)"
      ],
      "execution_count": 82,
      "outputs": []
    },
    {
      "cell_type": "code",
      "metadata": {
        "id": "XBg0v-eiqUSn"
      },
      "source": [
        "#df_test_text = open(\"/content/drive/MyDrive/CE888_Data Science and Decision Making/tweeteval-main/datasets/emotion/test_text.txt\", \"r\") \r\n",
        "#for line in df_test_text.readlines():\r\n",
        "#    line = line.strip()\r\n",
        "#    print(line)\r\n",
        "#df_test_text.close()\r\n",
        "#print(df_text_text.read())"
      ],
      "execution_count": 83,
      "outputs": []
    },
    {
      "cell_type": "markdown",
      "metadata": {
        "id": "SXJ9Hp13QGIv"
      },
      "source": [
        "###Create Pandas Dataframe for Emoji Dataset: test, train, and validation dataset"
      ]
    },
    {
      "cell_type": "code",
      "metadata": {
        "id": "a_lQXVQFOq68"
      },
      "source": [
        "#Create Emoji test dataset with text and labels\r\n",
        "emoji_test_text = pd.read_csv(\"/content/drive/MyDrive/CE888 Data Science for Decision Making/Tweet Evaluation Project/emoji/test_text.txt\", \r\n",
        "                              delimiter=\"\\t\", names=[\"Tweet text\"])\r\n",
        "emoji_test_labels = pd.read_csv(\"/content/drive/MyDrive/CE888 Data Science for Decision Making/Tweet Evaluation Project/emoji/test_labels.txt\",\r\n",
        "                                delimiter=\"\\t\", names=[\"labels\"])\r\n",
        "df_emoji_test = emoji_test_text.join(emoji_test_labels)\r\n",
        "#df_emoji_test.head(1)"
      ],
      "execution_count": 84,
      "outputs": []
    },
    {
      "cell_type": "code",
      "metadata": {
        "id": "Jchx_jidP57s"
      },
      "source": [
        "#Create Emoji train dataset with text and labels\r\n",
        "emoji_train_text = pd.read_csv(\"/content/drive/MyDrive/CE888 Data Science for Decision Making/Tweet Evaluation Project/emoji/train_text.txt\", \r\n",
        "                              delimiter=\"\\t\", names=[\"Tweet text\"])\r\n",
        "emoji_train_labels = pd.read_csv(\"/content/drive/MyDrive/CE888 Data Science for Decision Making/Tweet Evaluation Project/emoji/train_labels.txt\",\r\n",
        "                                delimiter=\"\\t\", names=[\"labels\"])\r\n",
        "df_emoji_train = emoji_train_text.join(emoji_train_labels)\r\n",
        "#df_emoji_train.head(1)"
      ],
      "execution_count": 85,
      "outputs": []
    },
    {
      "cell_type": "code",
      "metadata": {
        "id": "FxoZyMJ9Qz5p"
      },
      "source": [
        "#Create Emoji validation dataset with text and labels\r\n",
        "emoji_val_text = pd.read_csv(\"/content/drive/MyDrive/CE888 Data Science for Decision Making/Tweet Evaluation Project/emoji/val_text.txt\", \r\n",
        "                              delimiter=\"\\t\", names=[\"Tweet text\"])\r\n",
        "emoji_val_labels = pd.read_csv(\"/content/drive/MyDrive/CE888 Data Science for Decision Making/Tweet Evaluation Project/emoji/val_labels.txt\",\r\n",
        "                                delimiter=\"\\t\", names=[\"labels\"])\r\n",
        "df_emoji_val = emoji_val_text.join(emoji_val_labels)\r\n",
        "#df_emoji_val.head(1)"
      ],
      "execution_count": 86,
      "outputs": []
    },
    {
      "cell_type": "code",
      "metadata": {
        "colab": {
          "base_uri": "https://localhost:8080/"
        },
        "id": "uuna3TWoRLUl",
        "outputId": "50bcbedc-cec9-40ec-d055-190b0249a043"
      },
      "source": [
        "#Types of labels for emoji dataset\r\n",
        "text_file_reader('/content/drive/MyDrive/CE888 Data Science for Decision Making/Tweet Evaluation Project/emoji/mapping.txt')"
      ],
      "execution_count": 87,
      "outputs": [
        {
          "output_type": "stream",
          "text": [
            "0\t❤\t_red_heart_\t\n",
            "1\t😍\t_smiling_face_with_hearteyes_\t\n",
            "2\t😂\t_face_with_tears_of_joy_\t\n",
            "3\t💕\t_two_hearts_\t\n",
            "4\t🔥\t_fire_\t\n",
            "5\t😊\t_smiling_face_with_smiling_eyes_\t\n",
            "6\t😎\t_smiling_face_with_sunglasses_\t\n",
            "7\t✨\t_sparkles_\t\n",
            "8\t💙\t_blue_heart_\t\n",
            "9\t😘\t_face_blowing_a_kiss_\t\n",
            "10\t📷\t_camera_\t\n",
            "11\t🇺🇸\t_United_States_\t\n",
            "12\t☀\t_sun_\t\n",
            "13\t💜\t_purple_heart_\t\n",
            "14\t😉\t_winking_face_\t\n",
            "15\t💯\t_hundred_points_\t\n",
            "16\t😁\t_beaming_face_with_smiling_eyes_\t\n",
            "17\t🎄\t_Christmas_tree_\t\n",
            "18\t📸\t_camera_with_flash_\t\n",
            "19\t😜\t_winking_face_with_tongue_\t\n",
            "\n"
          ],
          "name": "stdout"
        }
      ]
    },
    {
      "cell_type": "markdown",
      "metadata": {
        "id": "XnkHlvD4Rd4O"
      },
      "source": [
        "###Create Pandas Dataframe for emotion Dataset: test, train, and validation dataset"
      ]
    },
    {
      "cell_type": "code",
      "metadata": {
        "id": "zeDcCWMeRZvC"
      },
      "source": [
        "#Create Emotion test dataset with text and labels\r\n",
        "emotion_test_text = pd.read_csv(\"/content/drive/MyDrive/CE888 Data Science for Decision Making/Tweet Evaluation Project/emotion/test_text.txt\", \r\n",
        "                              delimiter=\"\\t\", names=[\"Tweet text\"])\r\n",
        "emotion_test_labels = pd.read_csv(\"/content/drive/MyDrive/CE888 Data Science for Decision Making/Tweet Evaluation Project/emotion/test_labels.txt\",\r\n",
        "                                delimiter=\"\\t\", names=[\"labels\"])\r\n",
        "df_emotion_test = emotion_test_text.join(emotion_test_labels)"
      ],
      "execution_count": 88,
      "outputs": []
    },
    {
      "cell_type": "code",
      "metadata": {
        "id": "M7gx03MoSIo4"
      },
      "source": [
        "#Create Emotion train dataset with text and labels\r\n",
        "emotion_train_text = pd.read_csv(\"/content/drive/MyDrive/CE888 Data Science for Decision Making/Tweet Evaluation Project/emotion/train_text.txt\", \r\n",
        "                              delimiter=\"\\t\", names=[\"Tweet text\"])\r\n",
        "emotion_train_labels = pd.read_csv(\"/content/drive/MyDrive/CE888 Data Science for Decision Making/Tweet Evaluation Project/emotion/train_labels.txt\",\r\n",
        "                                delimiter=\"\\t\", names=[\"labels\"])\r\n",
        "df_emotion_train = emotion_train_text.join(emotion_train_labels)"
      ],
      "execution_count": 89,
      "outputs": []
    },
    {
      "cell_type": "code",
      "metadata": {
        "id": "FYQBsZwfSYro"
      },
      "source": [
        "#Create Emotion validation dataset with text and labels\r\n",
        "emotion_val_text = pd.read_csv(\"/content/drive/MyDrive/CE888 Data Science for Decision Making/Tweet Evaluation Project/emotion/val_text.txt\", \r\n",
        "                              delimiter=\"\\t\", names=[\"Tweet text\"])\r\n",
        "emotion_val_labels = pd.read_csv(\"/content/drive/MyDrive/CE888 Data Science for Decision Making/Tweet Evaluation Project/emotion/val_labels.txt\",\r\n",
        "                                delimiter=\"\\t\", names=[\"labels\"])\r\n",
        "df_emotion_val = emotion_val_text.join(emotion_val_labels)"
      ],
      "execution_count": 90,
      "outputs": []
    },
    {
      "cell_type": "code",
      "metadata": {
        "colab": {
          "base_uri": "https://localhost:8080/"
        },
        "id": "jhQ5wiX9Rkm1",
        "outputId": "7f6ea4cc-7b77-45ff-ec64-37d7c75a7f6f"
      },
      "source": [
        "#Types of labels for emotion dataset\r\n",
        "text_file_reader('/content/drive/MyDrive/CE888 Data Science for Decision Making/Tweet Evaluation Project/emotion/mapping.txt')"
      ],
      "execution_count": 91,
      "outputs": [
        {
          "output_type": "stream",
          "text": [
            "0\tanger\n",
            "1\tjoy\n",
            "2\toptimism\n",
            "3\tsadness\n"
          ],
          "name": "stdout"
        }
      ]
    },
    {
      "cell_type": "markdown",
      "metadata": {
        "id": "S02FJaJWTAU3"
      },
      "source": [
        "###Create Pandas Dataframe for sentiment Dataset: test, train, and validation dataset"
      ]
    },
    {
      "cell_type": "code",
      "metadata": {
        "id": "yWSTuVRcTNJ6"
      },
      "source": [
        "#Create Sentiment test dataset with text and labels\r\n",
        "sentiment_test_text = pd.read_csv(\"/content/drive/MyDrive/CE888 Data Science for Decision Making/Tweet Evaluation Project/sentiment/test_text.txt\", \r\n",
        "                              delimiter=\"\\t\", names=[\"Tweet text\"])\r\n",
        "sentimemt_test_labels = pd.read_csv(\"/content/drive/MyDrive/CE888 Data Science for Decision Making/Tweet Evaluation Project/sentiment/test_labels.txt\",\r\n",
        "                                delimiter=\"\\t\", names=[\"labels\"])\r\n",
        "df_sentiment_test = sentiment_test_text.join(sentimemt_test_labels)"
      ],
      "execution_count": 92,
      "outputs": []
    },
    {
      "cell_type": "code",
      "metadata": {
        "id": "SiWlMRqdTnJA"
      },
      "source": [
        "#Create Sentiment train dataset with text and labels\r\n",
        "sentiment_train_text = pd.read_csv(\"/content/drive/MyDrive/CE888 Data Science for Decision Making/Tweet Evaluation Project/sentiment/train_text.txt\", \r\n",
        "                              delimiter=\"\\t\", names=[\"Tweet text\"])\r\n",
        "sentimemt_train_labels = pd.read_csv(\"/content/drive/MyDrive/CE888 Data Science for Decision Making/Tweet Evaluation Project/sentiment/train_labels.txt\",\r\n",
        "                                delimiter=\"\\t\", names=[\"labels\"])\r\n",
        "df_sentiment_train = sentiment_train_text.join(sentimemt_train_labels)"
      ],
      "execution_count": 93,
      "outputs": []
    },
    {
      "cell_type": "code",
      "metadata": {
        "id": "RNpvIFIvUCN0"
      },
      "source": [
        "#Create Sentiment validation dataset with text and labels\r\n",
        "sentiment_val_text = pd.read_csv(\"/content/drive/MyDrive/CE888 Data Science for Decision Making/Tweet Evaluation Project/sentiment/val_text.txt\", \r\n",
        "                              delimiter=\"\\t\", names=[\"Tweet text\"])\r\n",
        "sentimemt_val_labels = pd.read_csv(\"/content/drive/MyDrive/CE888 Data Science for Decision Making/Tweet Evaluation Project/sentiment/val_labels.txt\",\r\n",
        "                                delimiter=\"\\t\", names=[\"labels\"])\r\n",
        "df_sentiment_val = sentiment_val_text.join(sentimemt_val_labels)"
      ],
      "execution_count": 94,
      "outputs": []
    },
    {
      "cell_type": "code",
      "metadata": {
        "colab": {
          "base_uri": "https://localhost:8080/"
        },
        "id": "68ObYtH1THZz",
        "outputId": "5c4da43e-a05a-4d3c-e4a1-1a0a2caba1d7"
      },
      "source": [
        "#Types of labels for sentiment dataset\r\n",
        "text_file_reader('/content/drive/MyDrive/CE888 Data Science for Decision Making/Tweet Evaluation Project/sentiment/mapping.txt')"
      ],
      "execution_count": 95,
      "outputs": [
        {
          "output_type": "stream",
          "text": [
            "0\tnegative\n",
            "1\tneutral\n",
            "2\tpositive\n",
            "\n"
          ],
          "name": "stdout"
        }
      ]
    },
    {
      "cell_type": "markdown",
      "metadata": {
        "id": "R3joj1bya0N7"
      },
      "source": [
        "##Check content of the DataFrames for Emoji, Emotion, and Sentiment"
      ]
    },
    {
      "cell_type": "code",
      "metadata": {
        "colab": {
          "base_uri": "https://localhost:8080/",
          "height": 140
        },
        "id": "LW7lg3yyUVQV",
        "outputId": "234de040-eb34-4d63-ddba-9568ba04aefd"
      },
      "source": [
        "#Check size of the datasets\r\n",
        "dataset_info = pd.DataFrame(data = {'test': [len(df_emoji_test), len(df_emotion_test), len(df_sentiment_test)], \r\n",
        "                                    'train': [len(df_emoji_train), len(df_emotion_train), len(df_sentiment_train)], \r\n",
        "                                    'validation': [len(df_emoji_val), len(df_emotion_val), len(df_sentiment_val)]},\r\n",
        "                            index = {'Emoji', 'Emotion', 'Sentiment'})\r\n",
        "dataset_info['train-test-split-ratio [%]'] = ((dataset_info['train'] / (dataset_info['test'] + dataset_info['train'])) *100).round(2)\r\n",
        "dataset_info"
      ],
      "execution_count": 96,
      "outputs": [
        {
          "output_type": "execute_result",
          "data": {
            "text/html": [
              "<div>\n",
              "<style scoped>\n",
              "    .dataframe tbody tr th:only-of-type {\n",
              "        vertical-align: middle;\n",
              "    }\n",
              "\n",
              "    .dataframe tbody tr th {\n",
              "        vertical-align: top;\n",
              "    }\n",
              "\n",
              "    .dataframe thead th {\n",
              "        text-align: right;\n",
              "    }\n",
              "</style>\n",
              "<table border=\"1\" class=\"dataframe\">\n",
              "  <thead>\n",
              "    <tr style=\"text-align: right;\">\n",
              "      <th></th>\n",
              "      <th>test</th>\n",
              "      <th>train</th>\n",
              "      <th>validation</th>\n",
              "      <th>train-test-split-ratio [%]</th>\n",
              "    </tr>\n",
              "  </thead>\n",
              "  <tbody>\n",
              "    <tr>\n",
              "      <th>Sentiment</th>\n",
              "      <td>48746</td>\n",
              "      <td>42631</td>\n",
              "      <td>4471</td>\n",
              "      <td>46.65</td>\n",
              "    </tr>\n",
              "    <tr>\n",
              "      <th>Emoji</th>\n",
              "      <td>1421</td>\n",
              "      <td>3257</td>\n",
              "      <td>374</td>\n",
              "      <td>69.62</td>\n",
              "    </tr>\n",
              "    <tr>\n",
              "      <th>Emotion</th>\n",
              "      <td>12032</td>\n",
              "      <td>36373</td>\n",
              "      <td>1623</td>\n",
              "      <td>75.14</td>\n",
              "    </tr>\n",
              "  </tbody>\n",
              "</table>\n",
              "</div>"
            ],
            "text/plain": [
              "            test  train  validation  train-test-split-ratio [%]\n",
              "Sentiment  48746  42631        4471                       46.65\n",
              "Emoji       1421   3257         374                       69.62\n",
              "Emotion    12032  36373        1623                       75.14"
            ]
          },
          "metadata": {
            "tags": []
          },
          "execution_count": 96
        }
      ]
    },
    {
      "cell_type": "code",
      "metadata": {
        "colab": {
          "base_uri": "https://localhost:8080/",
          "height": 85
        },
        "id": "De7PQhORbBYM",
        "outputId": "bb8fcf6e-c1ee-4e3c-f9d6-b158e34b0912"
      },
      "source": [
        "#my_frame Display pandas table\r\n",
        "\r\n",
        "fig = plt.figure(figsize = (10, 1))\r\n",
        "ax = fig.add_subplot(111)\r\n",
        "\r\n",
        "ax.table(cellText = dataset_info.values,\r\n",
        "          rowLabels = dataset_info.index,\r\n",
        "          colLabels = dataset_info.columns,\r\n",
        "          loc = \"center\")\r\n",
        "\r\n",
        "#ax.set_title(\"Size of Test/ Train/ Validation Dataset by Cateogry\")\r\n",
        "\r\n",
        "ax.axis(\"off\");\r\n",
        "\r\n",
        "plt.savefig(\"dataset_info.png\")"
      ],
      "execution_count": 97,
      "outputs": [
        {
          "output_type": "display_data",
          "data": {
            "image/png": "[encoded data removed]",
            "text/plain": [
              "<Figure size 720x72 with 1 Axes>"
            ]
          },
          "metadata": {
            "tags": [],
            "needs_background": "light"
          }
        }
      ]
    },
    {
      "cell_type": "code",
      "metadata": {
        "id": "C10XbmF9irlk"
      },
      "source": [
        "#List of labels from each dataset\r\n"
      ],
      "execution_count": 98,
      "outputs": []
    },
    {
      "cell_type": "markdown",
      "metadata": {
        "id": "KiTa3EeHgoxH"
      },
      "source": [
        "##Conduct Pre-Processing"
      ]
    },
    {
      "cell_type": "code",
      "metadata": {
        "id": "o-Dg4pHUXBWL"
      },
      "source": [
        "#Create a funtion that adds a column with hashtags in tweet text\r\n",
        "import re\r\n",
        "\r\n",
        "def tweet_extractor(data):\r\n",
        "  data['hashtag'] = data['Tweet text'].apply(lambda x: re.findall(r\"#(\\w+)\", x))\r\n",
        "  return data"
      ],
      "execution_count": 99,
      "outputs": []
    },
    {
      "cell_type": "code",
      "metadata": {
        "colab": {
          "base_uri": "https://localhost:8080/",
          "height": 415
        },
        "id": "KoChI8MWfQvP",
        "outputId": "1a34ab1a-5e0e-49a2-85ae-34ee99130f46"
      },
      "source": [
        "tweet_extractor(df_emoji_test)"
      ],
      "execution_count": 106,
      "outputs": [
        {
          "output_type": "execute_result",
          "data": {
            "text/html": [
              "<div>\n",
              "<style scoped>\n",
              "    .dataframe tbody tr th:only-of-type {\n",
              "        vertical-align: middle;\n",
              "    }\n",
              "\n",
              "    .dataframe tbody tr th {\n",
              "        vertical-align: top;\n",
              "    }\n",
              "\n",
              "    .dataframe thead th {\n",
              "        text-align: right;\n",
              "    }\n",
              "</style>\n",
              "<table border=\"1\" class=\"dataframe\">\n",
              "  <thead>\n",
              "    <tr style=\"text-align: right;\">\n",
              "      <th></th>\n",
              "      <th>Tweet text</th>\n",
              "      <th>labels</th>\n",
              "      <th>hashtag</th>\n",
              "    </tr>\n",
              "  </thead>\n",
              "  <tbody>\n",
              "    <tr>\n",
              "      <th>0</th>\n",
              "      <td>en Pelham Parkway</td>\n",
              "      <td>2</td>\n",
              "      <td>[]</td>\n",
              "    </tr>\n",
              "    <tr>\n",
              "      <th>1</th>\n",
              "      <td>The calm before...... | w/ sofarsounds @user |...</td>\n",
              "      <td>10</td>\n",
              "      <td>[sofarsounds]</td>\n",
              "    </tr>\n",
              "    <tr>\n",
              "      <th>2</th>\n",
              "      <td>Just witnessed the great solar eclipse @ Tampa...</td>\n",
              "      <td>6</td>\n",
              "      <td>[]</td>\n",
              "    </tr>\n",
              "    <tr>\n",
              "      <th>3</th>\n",
              "      <td>This little lady is 26 weeks pregnant today! E...</td>\n",
              "      <td>1</td>\n",
              "      <td>[]</td>\n",
              "    </tr>\n",
              "    <tr>\n",
              "      <th>4</th>\n",
              "      <td>Great road trip views! @ Shartlesville, Pennsy...</td>\n",
              "      <td>16</td>\n",
              "      <td>[]</td>\n",
              "    </tr>\n",
              "    <tr>\n",
              "      <th>...</th>\n",
              "      <td>...</td>\n",
              "      <td>...</td>\n",
              "      <td>...</td>\n",
              "    </tr>\n",
              "    <tr>\n",
              "      <th>48741</th>\n",
              "      <td>@user @user @user #la #westhollywood #dtboy #l...</td>\n",
              "      <td>17</td>\n",
              "      <td>[la, westhollywood, dtboy, losangeles]</td>\n",
              "    </tr>\n",
              "    <tr>\n",
              "      <th>48742</th>\n",
              "      <td>Climbing subway stairs. That was nothing. #sta...</td>\n",
              "      <td>15</td>\n",
              "      <td>[stairs, climbingstairs, subway, universalstud...</td>\n",
              "    </tr>\n",
              "    <tr>\n",
              "      <th>48743</th>\n",
              "      <td>Pops with Ms Drina at The Swanees Anniversary ...</td>\n",
              "      <td>5</td>\n",
              "      <td>[ThemRatedRboyz]</td>\n",
              "    </tr>\n",
              "    <tr>\n",
              "      <th>48744</th>\n",
              "      <td>We love ️ Soren! July 26, 2017 was her first d...</td>\n",
              "      <td>18</td>\n",
              "      <td>[]</td>\n",
              "    </tr>\n",
              "    <tr>\n",
              "      <th>48745</th>\n",
              "      <td>Waiting in line for #TheRoom ! #PrepareForDisa...</td>\n",
              "      <td>7</td>\n",
              "      <td>[TheRoom, PrepareForDisaster, DisasterArtistSD]</td>\n",
              "    </tr>\n",
              "  </tbody>\n",
              "</table>\n",
              "<p>48746 rows × 3 columns</p>\n",
              "</div>"
            ],
            "text/plain": [
              "                                              Tweet text  ...                                            hashtag\n",
              "0                                      en Pelham Parkway  ...                                                 []\n",
              "1      The calm before...... | w/ sofarsounds @user |...  ...                                      [sofarsounds]\n",
              "2      Just witnessed the great solar eclipse @ Tampa...  ...                                                 []\n",
              "3      This little lady is 26 weeks pregnant today! E...  ...                                                 []\n",
              "4      Great road trip views! @ Shartlesville, Pennsy...  ...                                                 []\n",
              "...                                                  ...  ...                                                ...\n",
              "48741  @user @user @user #la #westhollywood #dtboy #l...  ...             [la, westhollywood, dtboy, losangeles]\n",
              "48742  Climbing subway stairs. That was nothing. #sta...  ...  [stairs, climbingstairs, subway, universalstud...\n",
              "48743  Pops with Ms Drina at The Swanees Anniversary ...  ...                                   [ThemRatedRboyz]\n",
              "48744  We love ️ Soren! July 26, 2017 was her first d...  ...                                                 []\n",
              "48745  Waiting in line for #TheRoom ! #PrepareForDisa...  ...    [TheRoom, PrepareForDisaster, DisasterArtistSD]\n",
              "\n",
              "[48746 rows x 3 columns]"
            ]
          },
          "metadata": {
            "tags": []
          },
          "execution_count": 106
        }
      ]
    },
    {
      "cell_type": "code",
      "metadata": {
        "colab": {
          "base_uri": "https://localhost:8080/"
        },
        "id": "puZPHx_hYGew",
        "outputId": "db144107-2590-411b-e605-a0a29b036a02"
      },
      "source": [
        "#installing tweet-preprocessor\r\n",
        "!pip install tweet-preprocessor"
      ],
      "execution_count": 100,
      "outputs": [
        {
          "output_type": "stream",
          "text": [
            "Requirement already satisfied: tweet-preprocessor in /usr/local/lib/python3.7/dist-packages (0.6.0)\n"
          ],
          "name": "stdout"
        }
      ]
    },
    {
      "cell_type": "code",
      "metadata": {
        "id": "jlew6pr0YI49"
      },
      "source": [
        "import preprocessor as p\r\n",
        "#forming a separate feature for cleaned tweets\r\n",
        "for i,v in enumerate(df_emoji_test['Tweet text']):\r\n",
        "    df_emoji_test.loc[v, 'Tweet text'] = p.clean(i)"
      ],
      "execution_count": null,
      "outputs": []
    },
    {
      "cell_type": "code",
      "metadata": {
        "id": "pZ-67SiKgDZ7"
      },
      "source": [
        "import preprocessor as p\r\n",
        "#forming a separate feature for cleaned tweets\r\n",
        "for i,v in enumerate(df_emoji_test_text):\r\n",
        "    df_emoji_test.loc[v,'Tweet text'] = p.clean(i)"
      ],
      "execution_count": null,
      "outputs": []
    },
    {
      "cell_type": "code",
      "metadata": {
        "colab": {
          "base_uri": "https://localhost:8080/"
        },
        "id": "OFnKdU2IY-ot",
        "outputId": "df2b552a-f7c4-4f44-d078-cf56fffddb3a"
      },
      "source": [
        "#important libraries for preprocessing using NLTK\r\n",
        "import nltk\r\n",
        "from nltk import word_tokenize, FreqDist\r\n",
        "from nltk.corpus import stopwords\r\n",
        "from nltk.stem import WordNetLemmatizer\r\n",
        "nltk.download\r\n",
        "nltk.download('wordnet')\r\n",
        "nltk.download('stopwords')\r\n",
        "from nltk.tokenize import TweetTokenizer"
      ],
      "execution_count": 102,
      "outputs": [
        {
          "output_type": "stream",
          "text": [
            "[nltk_data] Downloading package wordnet to /root/nltk_data...\n",
            "[nltk_data]   Package wordnet is already up-to-date!\n",
            "[nltk_data] Downloading package stopwords to /root/nltk_data...\n",
            "[nltk_data]   Package stopwords is already up-to-date!\n"
          ],
          "name": "stdout"
        }
      ]
    },
    {
      "cell_type": "code",
      "metadata": {
        "id": "uln_dw_MdtbC"
      },
      "source": [
        "#Function to extract stop words\r\n",
        "stop_words = set(stopwords.words('english'))\r\n",
        "\r\n",
        "def stopwords_extractor():\r\n",
        "  data = data.apply(lambda x: [item for item in \\\r\n",
        "                         x if item not in stop_words])\r\n",
        "  return data"
      ],
      "execution_count": 103,
      "outputs": []
    },
    {
      "cell_type": "code",
      "metadata": {
        "colab": {
          "base_uri": "https://localhost:8080/",
          "height": 202
        },
        "id": "LERpD9tAfLa8",
        "outputId": "19a4119e-ff26-4220-deb6-eb4816fc75e6"
      },
      "source": [
        "df_emoji_test.head()"
      ],
      "execution_count": 110,
      "outputs": [
        {
          "output_type": "execute_result",
          "data": {
            "text/html": [
              "<div>\n",
              "<style scoped>\n",
              "    .dataframe tbody tr th:only-of-type {\n",
              "        vertical-align: middle;\n",
              "    }\n",
              "\n",
              "    .dataframe tbody tr th {\n",
              "        vertical-align: top;\n",
              "    }\n",
              "\n",
              "    .dataframe thead th {\n",
              "        text-align: right;\n",
              "    }\n",
              "</style>\n",
              "<table border=\"1\" class=\"dataframe\">\n",
              "  <thead>\n",
              "    <tr style=\"text-align: right;\">\n",
              "      <th></th>\n",
              "      <th>Tweet text</th>\n",
              "      <th>labels</th>\n",
              "      <th>hashtag</th>\n",
              "    </tr>\n",
              "  </thead>\n",
              "  <tbody>\n",
              "    <tr>\n",
              "      <th>0</th>\n",
              "      <td>en Pelham Parkway</td>\n",
              "      <td>2</td>\n",
              "      <td>[]</td>\n",
              "    </tr>\n",
              "    <tr>\n",
              "      <th>1</th>\n",
              "      <td>The calm before...... | w/ sofarsounds @user |...</td>\n",
              "      <td>10</td>\n",
              "      <td>[sofarsounds]</td>\n",
              "    </tr>\n",
              "    <tr>\n",
              "      <th>2</th>\n",
              "      <td>Just witnessed the great solar eclipse @ Tampa...</td>\n",
              "      <td>6</td>\n",
              "      <td>[]</td>\n",
              "    </tr>\n",
              "    <tr>\n",
              "      <th>3</th>\n",
              "      <td>This little lady is 26 weeks pregnant today! E...</td>\n",
              "      <td>1</td>\n",
              "      <td>[]</td>\n",
              "    </tr>\n",
              "    <tr>\n",
              "      <th>4</th>\n",
              "      <td>Great road trip views! @ Shartlesville, Pennsy...</td>\n",
              "      <td>16</td>\n",
              "      <td>[]</td>\n",
              "    </tr>\n",
              "  </tbody>\n",
              "</table>\n",
              "</div>"
            ],
            "text/plain": [
              "                                          Tweet text  labels        hashtag\n",
              "0                                  en Pelham Parkway       2             []\n",
              "1  The calm before...... | w/ sofarsounds @user |...      10  [sofarsounds]\n",
              "2  Just witnessed the great solar eclipse @ Tampa...       6             []\n",
              "3  This little lady is 26 weeks pregnant today! E...       1             []\n",
              "4  Great road trip views! @ Shartlesville, Pennsy...      16             []"
            ]
          },
          "metadata": {
            "tags": []
          },
          "execution_count": 110
        }
      ]
    },
    {
      "cell_type": "code",
      "metadata": {
        "id": "jOxiHaOIZATG"
      },
      "source": [
        "#Funtion to remove Digits and lower the text \r\n",
        "def digits_romover_lowercase_converter(data):\r\n",
        "  data = data.astype(str).str.replace('\\d+', '')\r\n",
        "  lower_text = data.str.lower()\r\n",
        "  return lower_text"
      ],
      "execution_count": 104,
      "outputs": []
    },
    {
      "cell_type": "code",
      "metadata": {
        "id": "CFH5OBa2fjGf"
      },
      "source": [
        "df_emoji_test_text = digits_romover_lowercase_converter(df_emoji_test['Tweet text'])"
      ],
      "execution_count": 114,
      "outputs": []
    },
    {
      "cell_type": "code",
      "metadata": {
        "id": "0ZRliaHHaMVp"
      },
      "source": [
        "#Function to remove punctuation\r\n",
        "def remove_punctuation(words):\r\n",
        " new_words = []\r\n",
        " for word in words:\r\n",
        "    new_word = re.sub(r'[^\\w\\s]', '', (word))\r\n",
        "    if new_word != '':\r\n",
        "       new_words.append(new_word)\r\n",
        " return new_words"
      ],
      "execution_count": null,
      "outputs": []
    },
    {
      "cell_type": "code",
      "metadata": {
        "id": "fnVrrToVarBx"
      },
      "source": [
        "#Funtion to impliment Lemmatization & Tokenization utilizing NLTK\r\n",
        "lemmatizer = nltk.stem.WordNetLemmatizer()\r\n",
        "w_tokenizer = TweetTokenizer()\r\n",
        "def lemmatize_text(text):\r\n",
        " return [(lemmatizer.lemmatize(w)) for w in \\\r\n",
        "         w_tokenizer.tokenize((text))]"
      ],
      "execution_count": null,
      "outputs": []
    },
    {
      "cell_type": "code",
      "metadata": {
        "id": "DIoSex_Dbd4X"
      },
      "source": [
        "lemmatize_text(df_emoji_test)"
      ],
      "execution_count": null,
      "outputs": []
    }
  ]
}